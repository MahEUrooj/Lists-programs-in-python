{
  "nbformat": 4,
  "nbformat_minor": 0,
  "metadata": {
    "colab": {
      "name": "For loop.ipynb",
      "provenance": [],
      "collapsed_sections": [],
      "authorship_tag": "ABX9TyO3/30Dtd97jMOH6s24VQLe",
      "include_colab_link": true
    },
    "kernelspec": {
      "name": "python3",
      "display_name": "Python 3"
    },
    "language_info": {
      "name": "python"
    }
  },
  "cells": [
    {
      "cell_type": "markdown",
      "metadata": {
        "id": "view-in-github",
        "colab_type": "text"
      },
      "source": [
        "<a href=\"https://colab.research.google.com/github/MahEUrooj/Lists-programs-in-python/blob/main/For_loop.ipynb\" target=\"_parent\"><img src=\"https://colab.research.google.com/assets/colab-badge.svg\" alt=\"Open In Colab\"/></a>"
      ]
    },
    {
      "cell_type": "code",
      "execution_count": 4,
      "metadata": {
        "colab": {
          "base_uri": "https://localhost:8080/"
        },
        "id": "TAQN7bGfYukk",
        "outputId": "cb2d06d1-ffa7-4bab-a21e-a1738e37fb50"
      },
      "outputs": [
        {
          "output_type": "stream",
          "name": "stdout",
          "text": [
            "honda\n",
            "toyota\n",
            "audi\n",
            "bmw\n",
            "loop completed\n"
          ]
        }
      ],
      "source": [
        "cars=['bmw','audi','toyota','honda']\n",
        "cars[:]\n",
        "for car in reversed(cars):\n",
        "  print(car)\n",
        "print(\"loop completed\")"
      ]
    },
    {
      "cell_type": "code",
      "source": [
        "vege=[\"spinach\",\"ladyfinger\",\"potato\",\"onion\",\"beetroot\"]\n",
        "vege.reverse()\n",
        "vege[:]\n"
      ],
      "metadata": {
        "colab": {
          "base_uri": "https://localhost:8080/"
        },
        "id": "lpVCkzxzZMzh",
        "outputId": "b4f678c9-f904-448d-dd06-a04d4dc5a458"
      },
      "execution_count": 9,
      "outputs": [
        {
          "output_type": "execute_result",
          "data": {
            "text/plain": [
              "['beetroot', 'onion', 'potato', 'ladyfinger', 'spinach']"
            ]
          },
          "metadata": {},
          "execution_count": 9
        }
      ]
    },
    {
      "cell_type": "code",
      "source": [
        "fruits=['pineapple','blue-berry','strawberry','banana']\n",
        "fruits.reverse()\n",
        "for fruit in fruits:\n",
        "  print(fruit)"
      ],
      "metadata": {
        "colab": {
          "base_uri": "https://localhost:8080/"
        },
        "id": "7SxY5etRZ2e0",
        "outputId": "7a65e72f-3b77-44a2-b217-bdb02ad6c217"
      },
      "execution_count": 13,
      "outputs": [
        {
          "output_type": "stream",
          "name": "stdout",
          "text": [
            "banana\n",
            "strawberry\n",
            "blue-berry\n",
            "pineapple\n"
          ]
        }
      ]
    },
    {
      "cell_type": "code",
      "source": [
        "squares=[]\n",
        "for value in range (1,11):\n",
        "  squares.append(value**2)\n",
        "  print(squares)\n",
        "\n"
      ],
      "metadata": {
        "colab": {
          "base_uri": "https://localhost:8080/"
        },
        "id": "jhKGJydFarmo",
        "outputId": "cab88ae1-5813-4a7c-db43-ba051a3662b0"
      },
      "execution_count": 14,
      "outputs": [
        {
          "output_type": "stream",
          "name": "stdout",
          "text": [
            "[1]\n",
            "[1, 4]\n",
            "[1, 4, 9]\n",
            "[1, 4, 9, 16]\n",
            "[1, 4, 9, 16, 25]\n",
            "[1, 4, 9, 16, 25, 36]\n",
            "[1, 4, 9, 16, 25, 36, 49]\n",
            "[1, 4, 9, 16, 25, 36, 49, 64]\n",
            "[1, 4, 9, 16, 25, 36, 49, 64, 81]\n",
            "[1, 4, 9, 16, 25, 36, 49, 64, 81, 100]\n"
          ]
        }
      ]
    },
    {
      "cell_type": "code",
      "source": [
        "numb=[]\n",
        "for value in range(1,11):\n",
        "  numb.append(value)\n",
        "  print(numb)"
      ],
      "metadata": {
        "colab": {
          "base_uri": "https://localhost:8080/"
        },
        "id": "mdVHoQT0bZVn",
        "outputId": "6ac22edd-c96c-441c-b7c2-07bb5ec3e148"
      },
      "execution_count": 15,
      "outputs": [
        {
          "output_type": "stream",
          "name": "stdout",
          "text": [
            "[1]\n",
            "[1, 2]\n",
            "[1, 2, 3]\n",
            "[1, 2, 3, 4]\n",
            "[1, 2, 3, 4, 5]\n",
            "[1, 2, 3, 4, 5, 6]\n",
            "[1, 2, 3, 4, 5, 6, 7]\n",
            "[1, 2, 3, 4, 5, 6, 7, 8]\n",
            "[1, 2, 3, 4, 5, 6, 7, 8, 9]\n",
            "[1, 2, 3, 4, 5, 6, 7, 8, 9, 10]\n"
          ]
        }
      ]
    },
    {
      "cell_type": "code",
      "source": [
        "[2*i for i in range (1,6)]\n"
      ],
      "metadata": {
        "colab": {
          "base_uri": "https://localhost:8080/"
        },
        "id": "jAWRhX9qbylQ",
        "outputId": "e82b7fe7-683a-4835-9d77-77ef1101b3f3"
      },
      "execution_count": 17,
      "outputs": [
        {
          "output_type": "execute_result",
          "data": {
            "text/plain": [
              "[2, 4, 6, 8, 10]"
            ]
          },
          "metadata": {},
          "execution_count": 17
        }
      ]
    },
    {
      "cell_type": "code",
      "source": [
        "v=[2 for i in range (1,6)]\n",
        "print(v)"
      ],
      "metadata": {
        "colab": {
          "base_uri": "https://localhost:8080/"
        },
        "id": "dNsOJOfmcbXC",
        "outputId": "13a4a673-fb61-4834-d4dd-82bea4b6880a"
      },
      "execution_count": 19,
      "outputs": [
        {
          "output_type": "stream",
          "name": "stdout",
          "text": [
            "[2, 2, 2, 2, 2]\n"
          ]
        }
      ]
    },
    {
      "cell_type": "code",
      "source": [
        "squares=[value**2 for value in range (1,11)]\n",
        "print(squares)"
      ],
      "metadata": {
        "colab": {
          "base_uri": "https://localhost:8080/"
        },
        "id": "76dMgSQectWF",
        "outputId": "3e115802-6235-4cdb-8975-7a44d38ebf9f"
      },
      "execution_count": 24,
      "outputs": [
        {
          "output_type": "stream",
          "name": "stdout",
          "text": [
            "[1, 4, 9, 16, 25, 36, 49, 64, 81, 100]\n"
          ]
        }
      ]
    },
    {
      "cell_type": "code",
      "source": [
        ""
      ],
      "metadata": {
        "id": "6gwRy5uJdIlp"
      },
      "execution_count": null,
      "outputs": []
    }
  ]
}